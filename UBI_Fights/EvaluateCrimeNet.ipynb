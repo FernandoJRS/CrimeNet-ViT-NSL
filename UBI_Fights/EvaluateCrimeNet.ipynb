{
 "cells": [
  {
   "cell_type": "markdown",
   "source": [
    "# Evaluation CrimeNet with UBI-Fights test videos\n",
    "\n",
    "## Load test videos"
   ],
   "metadata": {
    "collapsed": false
   },
   "id": "93117052aab7154b"
  },
  {
   "cell_type": "code",
   "execution_count": 1,
   "id": "initial_id",
   "metadata": {
    "collapsed": true,
    "ExecuteTime": {
     "end_time": "2024-03-15T17:26:23.916208300Z",
     "start_time": "2024-03-15T17:26:23.791531700Z"
    }
   },
   "outputs": [],
   "source": [
    "import cv2\n",
    "import numpy as np\n",
    "import os\n",
    "import csv\n",
    "import time\n",
    "import random\n",
    "\n",
    "# Define las rutas a los directorios de datos\n",
    "path_base = 'UBI_FIGHTS/annotation/'\n",
    "path_videos = 'UBI_FIGHTS/videos/'\n",
    "\n",
    "# Obtén la lista de archivos de anotación y videos\n",
    "annotations = os.listdir(path_base)\n",
    "videos = os.listdir(path_videos + 'fight/') + os.listdir(path_videos + 'normal/')\n",
    "test_videos = [l[0] + '.mp4' for l in list(csv.reader(open('UBI_FIGHTS/test_videos.csv')))]\n",
    "train_videos = [p for p in videos if [p] not in test_videos]\n",
    "\n",
    "# Define las dimensiones de los frames\n",
    "width = 224\n",
    "height = 224\n",
    "channels = 3\n",
    "num_classes = 2\n",
    "batch_size = 1"
   ]
  },
  {
   "cell_type": "markdown",
   "source": [
    "## Functions to read videos and optical flow"
   ],
   "metadata": {
    "collapsed": false
   },
   "id": "253bc25f12c7de84"
  },
  {
   "cell_type": "code",
   "outputs": [],
   "source": [
    "# Define la función de lectura de vídeo\n",
    "def read_video_optical_flow(vid, width, height, resize=False):\n",
    "    video_frames_optical_flow = list()\n",
    "    i = 0\n",
    "    cap = cv2.VideoCapture(vid)\n",
    "    ret1, frame1 = cap.read()\n",
    "    if resize:\n",
    "        frame1 = cv2.resize(frame1, (width, height))\n",
    "    prvs = cv2.cvtColor(frame1, cv2.COLOR_BGR2GRAY)\n",
    "    hsv = np.zeros_like(frame1)\n",
    "    hsv[..., 1] = 255\n",
    "\n",
    "    if not cap.isOpened():\n",
    "        print(\"Error opening video stream or file\")\n",
    "\n",
    "    while cap.isOpened():\n",
    "        ret2, frame2 = cap.read()\n",
    "        if ret2:\n",
    "            if resize:\n",
    "                frame2 = cv2.resize(frame2, (width, height))\n",
    "            next = cv2.cvtColor(frame2, cv2.COLOR_BGR2GRAY)\n",
    "            flow = cv2.calcOpticalFlowFarneback(prvs, next, None, 0.5, 3, 15, 3, 5, 1.2, 0)\n",
    "            mag, ang = cv2.cartToPolar(flow[..., 0], flow[..., 1])\n",
    "            hsv[..., 0] = ang * 180 / np.pi / 2\n",
    "            hsv[..., 2] = cv2.normalize(mag, None, 0, 255, cv2.NORM_MINMAX)\n",
    "            bgr = cv2.cvtColor(hsv, cv2.COLOR_HSV2BGR)\n",
    "            bgr = np.reshape(bgr, (width, height, channels))\n",
    "            video_frames_optical_flow.append(bgr)\n",
    "        else:\n",
    "            break\n",
    "        i += 1\n",
    "        prvs = next\n",
    "    cap.release()\n",
    "    cv2.destroyAllWindows()\n",
    "    return video_frames_optical_flow\n",
    "\n",
    "# Define la función de lectura de vídeo\n",
    "def read_video(vid, width, height, resize=False):\n",
    "    video_frames = list()\n",
    "    cap = cv2.VideoCapture(vid)\n",
    "    while cap.isOpened():\n",
    "        ret, frame = cap.read()\n",
    "        if ret:\n",
    "            if resize:\n",
    "                frame = cv2.resize(frame, (width, height))\n",
    "                frame = np.reshape(frame, (width, height, channels))\n",
    "            video_frames.append(frame)\n",
    "        else:\n",
    "            break\n",
    "    cap.release()\n",
    "    cv2.destroyAllWindows()\n",
    "    return video_frames"
   ],
   "metadata": {
    "collapsed": false,
    "ExecuteTime": {
     "end_time": "2024-03-15T17:26:23.955170800Z",
     "start_time": "2024-03-15T17:26:23.921209600Z"
    }
   },
   "id": "3d3568ecddd0d355",
   "execution_count": 2
  },
  {
   "cell_type": "markdown",
   "source": [
    "## Load pre-trained CrimeNet model"
   ],
   "metadata": {
    "collapsed": false
   },
   "id": "d83e9f48341b7bc5"
  },
  {
   "cell_type": "code",
   "outputs": [
    {
     "data": {
      "text/plain": "<tensorflow.python.checkpoint.checkpoint.CheckpointLoadStatus at 0x148aed2e770>"
     },
     "execution_count": 3,
     "metadata": {},
     "output_type": "execute_result"
    }
   ],
   "source": [
    "# Carga del modelo (Asumiendo que 'adv_model' ya está definido)\n",
    "from ViT import *\n",
    "import neural_structured_learning as nsl\n",
    "\n",
    "vit_model = create_vit_classifier() # Create ViT Model\n",
    "\n",
    "adv_config = nsl.configs.make_adv_reg_config(multiplier=0.2,\n",
    "                                             adv_step_size=0.05,\n",
    "                                             adv_grad_norm='infinity') # Apply NSL configuration\n",
    "\n",
    "adv_model = nsl.keras.AdversarialRegularization(vit_model,\n",
    "                                                label_keys=['label'],\n",
    "                                                adv_config=adv_config) # Apply adversarial regularization\n",
    "\n",
    "adv_model.compile(optimizer=tf.keras.optimizers.legacy.Adam(learning_rate=learning_rate), # Compile model\n",
    "                  loss=tf.keras.losses.CategoricalCrossentropy(from_logits=False),\n",
    "                  metrics=[tf.keras.metrics.AUC(curve=\"ROC\"),\n",
    "                           tf.keras.metrics.AUC(curve=\"PR\")])\n",
    "\n",
    "adv_model.load_weights('Results/logs/checkpoint/20240303-121939')"
   ],
   "metadata": {
    "collapsed": false,
    "ExecuteTime": {
     "end_time": "2024-03-15T17:26:38.712927700Z",
     "start_time": "2024-03-15T17:26:23.943170100Z"
    }
   },
   "id": "b0f96291e333e7f7",
   "execution_count": 3
  },
  {
   "cell_type": "markdown",
   "source": [
    "## Function to generate dataset"
   ],
   "metadata": {
    "collapsed": false
   },
   "id": "94431996017fc931"
  },
  {
   "cell_type": "code",
   "outputs": [],
   "source": [
    "def generatorData(dataset_op, dataset_rgb, classes, batch_size=16):\n",
    "    while True:\n",
    "        for count in range(int(len(dataset_op) / batch_size)):\n",
    "            batch_start = batch_size * count\n",
    "            batch_stop = batch_size + (batch_size * count)\n",
    "            lx_op = []\n",
    "            lx_rgb = []\n",
    "            ly = []\n",
    "\n",
    "            for i in range(batch_start, batch_stop):\n",
    "                frame_op = cv2.resize(dataset_op[i][0], (width, height))\n",
    "                frame_op = (frame_op.astype('float32') - 127.5) / 127.5\n",
    "\n",
    "                frame_rgb = cv2.resize(dataset_rgb[i][0], (width, height))\n",
    "                frame_rgb = (frame_rgb.astype('float32') - 127.5) / 127.5\n",
    "\n",
    "                label = dataset_op[i][1]\n",
    "\n",
    "                lx_op.append(frame_op)\n",
    "                lx_rgb.append(frame_rgb)\n",
    "                ly.append(label)\n",
    "\n",
    "            x_op = np.array(lx_op).astype('float32')\n",
    "            x_rgb = np.array(lx_rgb).astype('float32')\n",
    "\n",
    "            y = np.array(ly).astype('float32')\n",
    "            y = tf.keras.utils.to_categorical(y, num_classes=classes, dtype='float32')\n",
    "\n",
    "            x_op = tf.convert_to_tensor(x_op)\n",
    "            x_rgb = tf.convert_to_tensor(x_rgb)\n",
    "            y = tf.convert_to_tensor(y)\n",
    "\n",
    "            yield {'feature_1': x_op, 'feature_2': x_rgb, 'label': y}"
   ],
   "metadata": {
    "collapsed": false,
    "ExecuteTime": {
     "end_time": "2024-03-15T17:26:38.767036400Z",
     "start_time": "2024-03-15T17:26:38.716928700Z"
    }
   },
   "id": "5c4304214890a37e",
   "execution_count": 4
  },
  {
   "cell_type": "markdown",
   "source": [
    "## Load and shuffle test dataset videos"
   ],
   "metadata": {
    "collapsed": false
   },
   "id": "1a1fef23601dfdff"
  },
  {
   "cell_type": "code",
   "outputs": [
    {
     "name": "stdout",
     "output_type": "stream",
     "text": [
      "Loading: UBI_FIGHTS/videos/normal/N_7_0_0_1_0.mp4\n",
      "Loading: UBI_FIGHTS/videos/normal/N_12_0_0_1_0.mp4\n",
      "Loading: UBI_FIGHTS/videos/normal/N_20_0_0_1_0.mp4\n",
      "Loading: UBI_FIGHTS/videos/normal/N_52_1_1_1_0.mp4\n",
      "Loading: UBI_FIGHTS/videos/normal/N_87_0_0_1_0.mp4\n",
      "Loading: UBI_FIGHTS/videos/normal/N_115_0_0_1_0.mp4\n",
      "Loading: UBI_FIGHTS/videos/normal/N_136_0_0_1_1.mp4\n",
      "Loading: UBI_FIGHTS/videos/normal/N_166_1_0_1_0.mp4\n",
      "Loading: UBI_FIGHTS/videos/normal/N_177_0_0_1_1.mp4\n",
      "Loading: UBI_FIGHTS/videos/normal/N_199_0_0_1_0.mp4\n",
      "Loading: UBI_FIGHTS/videos/normal/N_200_0_0_1_0.mp4\n",
      "Loading: UBI_FIGHTS/videos/normal/N_325_0_0_1_0.mp4\n",
      "Loading: UBI_FIGHTS/videos/normal/N_352_0_0_1_0.mp4\n",
      "Loading: UBI_FIGHTS/videos/normal/N_406_0_0_1_0.mp4\n",
      "Loading: UBI_FIGHTS/videos/normal/N_438_0_0_1_0.mp4\n",
      "Loading: UBI_FIGHTS/videos/normal/N_492_0_0_1_0.mp4\n",
      "Loading: UBI_FIGHTS/videos/normal/N_501_0_0_1_0.mp4\n",
      "Loading: UBI_FIGHTS/videos/normal/N_523_0_0_1_0.mp4\n",
      "Loading: UBI_FIGHTS/videos/normal/N_527_0_0_1_0.mp4\n",
      "Loading: UBI_FIGHTS/videos/normal/N_528_0_0_1_0.mp4\n",
      "Loading: UBI_FIGHTS/videos/normal/N_529_0_1_1_0.mp4\n",
      "Loading: UBI_FIGHTS/videos/normal/N_586_1_0_1_0.mp4\n",
      "Loading: UBI_FIGHTS/videos/normal/N_607_1_0_1_0.mp4\n",
      "Loading: UBI_FIGHTS/videos/normal/N_678_1_0_1_0.mp4\n",
      "Loading: UBI_FIGHTS/videos/normal/N_681_1_0_1_0.mp4\n",
      "Loading: UBI_FIGHTS/videos/normal/N_694_1_0_1_0.mp4\n",
      "Loading: UBI_FIGHTS/videos/normal/N_765_0_0_1_0.mp4\n",
      "Loading: UBI_FIGHTS/videos/fight/F_0_1_0_0_0.mp4\n",
      "Loading: UBI_FIGHTS/videos/fight/F_2_1_2_0_0.mp4\n",
      "Loading: UBI_FIGHTS/videos/fight/F_13_1_2_0_0.mp4\n",
      "Loading: UBI_FIGHTS/videos/fight/F_16_1_2_0_0.mp4\n",
      "Loading: UBI_FIGHTS/videos/fight/F_19_1_1_0_0.mp4\n",
      "Loading: UBI_FIGHTS/videos/fight/F_20_1_1_0_0.mp4\n",
      "Loading: UBI_FIGHTS/videos/fight/F_28_0_0_0_0.mp4\n",
      "Loading: UBI_FIGHTS/videos/fight/F_32_1_0_0_0.mp4\n",
      "Loading: UBI_FIGHTS/videos/fight/F_33_0_2_0_0.mp4\n",
      "Loading: UBI_FIGHTS/videos/fight/F_38_1_2_0_0.mp4\n",
      "Loading: UBI_FIGHTS/videos/fight/F_41_0_0_0_0.mp4\n",
      "Loading: UBI_FIGHTS/videos/fight/F_53_1_2_0_0.mp4\n",
      "Loading: UBI_FIGHTS/videos/fight/F_61_0_2_0_0.mp4\n",
      "Loading: UBI_FIGHTS/videos/fight/F_68_1_1_0_0.mp4\n",
      "Loading: UBI_FIGHTS/videos/fight/F_73_0_0_0_0.mp4\n",
      "Loading: UBI_FIGHTS/videos/fight/F_74_1_2_0_0.mp4\n",
      "Loading: UBI_FIGHTS/videos/fight/F_81_1_2_0_0.mp4\n",
      "Loading: UBI_FIGHTS/videos/fight/F_85_0_0_0_0.mp4\n",
      "Loading: UBI_FIGHTS/videos/fight/F_88_0_0_0_0.mp4\n",
      "Loading: UBI_FIGHTS/videos/fight/F_95_0_0_0_0.mp4\n",
      "Loading: UBI_FIGHTS/videos/fight/F_99_1_2_0_0.mp4\n",
      "Loading: UBI_FIGHTS/videos/fight/F_112_0_0_0_0.mp4\n",
      "Loading: UBI_FIGHTS/videos/fight/F_116_0_0_0_0.mp4\n",
      "Loading: UBI_FIGHTS/videos/fight/F_120_1_0_0_0.mp4\n",
      "Loading: UBI_FIGHTS/videos/fight/F_123_1_2_0_0.mp4\n",
      "Loading: UBI_FIGHTS/videos/fight/F_128_0_0_0_0.mp4\n",
      "Loading: UBI_FIGHTS/videos/fight/F_136_1_0_0_1.mp4\n",
      "Loading: UBI_FIGHTS/videos/fight/F_140_0_0_0_0.mp4\n",
      "Loading: UBI_FIGHTS/videos/fight/F_158_1_0_1_1.mp4\n",
      "Loading: UBI_FIGHTS/videos/fight/F_159_1_0_1_0.mp4\n",
      "Loading: UBI_FIGHTS/videos/fight/F_161_0_0_0_0.mp4\n",
      "Loading: UBI_FIGHTS/videos/fight/F_169_0_0_1_0.mp4\n",
      "Loading: UBI_FIGHTS/videos/fight/F_170_0_0_1_0.mp4\n",
      "Loading: UBI_FIGHTS/videos/fight/F_176_1_0_0_0.mp4\n",
      "Loading: UBI_FIGHTS/videos/fight/F_181_0_0_1_0.mp4\n",
      "Loading: UBI_FIGHTS/videos/fight/F_187_0_0_1_0.mp4\n",
      "Loading: UBI_FIGHTS/videos/fight/F_189_1_0_1_0.mp4\n",
      "Loading: UBI_FIGHTS/videos/fight/F_200_0_0_0_1.mp4\n",
      "Loading: UBI_FIGHTS/videos/fight/F_201_0_0_0_0.mp4\n",
      "Loading: UBI_FIGHTS/videos/fight/F_213_0_1_0_0.mp4\n"
     ]
    }
   ],
   "source": [
    "test_total_op, test_total_rgb = [], []\n",
    "for i in range(len(test_videos)):\n",
    "    if 'F' in test_videos[i]:\n",
    "        print('Loading: ' + path_videos + 'fight/' + test_videos[i])\n",
    "        video_frames_op = read_video_optical_flow(path_videos + 'fight/' + test_videos[i], 20, 20,\n",
    "                                                  resize=True)\n",
    "        video_frames_rgb = read_video(path_videos + 'fight/' + test_videos[i], 20, 20, resize=True)\n",
    "    else:\n",
    "        print('Loading: ' + path_videos + 'normal/' + test_videos[i])\n",
    "        video_frames_op = read_video_optical_flow(path_videos + 'normal/' + test_videos[i], 20, 20,\n",
    "                                                  resize=True)\n",
    "        video_frames_rgb = read_video(path_videos + 'normal/' + test_videos[i], 20, 20, resize=True)\n",
    "\n",
    "    frames_label = list(csv.reader(open(path_base + test_videos[i].split('.')[0] + '.csv')))\n",
    "    for j in range(len(video_frames_op)):\n",
    "        fr_op = video_frames_op[j]\n",
    "        fr_rgb = video_frames_rgb[j]\n",
    "        label = frames_label[j][0]\n",
    "        test_total_op.append((fr_op, label))\n",
    "        test_total_rgb.append((fr_rgb, label))\n",
    "\n",
    "temp = list(zip(test_total_op, test_total_rgb))\n",
    "random.shuffle(temp)\n",
    "test_total_op, test_total_rgb = zip(*temp)"
   ],
   "metadata": {
    "collapsed": false,
    "ExecuteTime": {
     "end_time": "2024-03-15T17:40:10.823935900Z",
     "start_time": "2024-03-15T17:26:38.751843500Z"
    }
   },
   "id": "2e29036da002ce56",
   "execution_count": 5
  },
  {
   "cell_type": "markdown",
   "source": [
    "## Evaluation test dataset videos with CrimeNet"
   ],
   "metadata": {
    "collapsed": false
   },
   "id": "118ad69acf23c57c"
  },
  {
   "cell_type": "code",
   "outputs": [
    {
     "name": "stderr",
     "output_type": "stream",
     "text": [
      "WARNING:absl:Cannot perturb features dict_keys(['label'])\n",
      "WARNING:absl:Cannot perturb features dict_keys(['label'])\n"
     ]
    },
    {
     "name": "stdout",
     "output_type": "stream",
     "text": [
      "1385853/1385853 [==============================] - 176529s 127ms/step - loss: 0.0424 - auc: 0.9997 - auc_1: 0.9997 - categorical_crossentropy: 0.0266 - scaled_adversarial_loss: 0.0158\n",
      "Inference time: 0.1273812802991451\n"
     ]
    }
   ],
   "source": [
    "start_time_test = time.time()\n",
    "adv_model.evaluate(generatorData(test_total_op, test_total_rgb, num_classes, batch_size=batch_size), steps=int(len(test_total_op) / batch_size))\n",
    "print('Inference time: ' + str((time.time() - start_time_test) / int(len(test_total_op))))"
   ],
   "metadata": {
    "collapsed": false,
    "ExecuteTime": {
     "end_time": "2024-03-17T18:42:23.785615800Z",
     "start_time": "2024-03-15T17:40:10.826938900Z"
    }
   },
   "id": "c795a460bdbbdebb",
   "execution_count": 6
  }
 ],
 "metadata": {
  "kernelspec": {
   "display_name": "Python 3",
   "language": "python",
   "name": "python3"
  },
  "language_info": {
   "codemirror_mode": {
    "name": "ipython",
    "version": 2
   },
   "file_extension": ".py",
   "mimetype": "text/x-python",
   "name": "python",
   "nbconvert_exporter": "python",
   "pygments_lexer": "ipython2",
   "version": "2.7.6"
  }
 },
 "nbformat": 4,
 "nbformat_minor": 5
}
